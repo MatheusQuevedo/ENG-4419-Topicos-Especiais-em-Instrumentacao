{
 "cells": [
  {
   "cell_type": "code",
   "execution_count": 2,
   "metadata": {},
   "outputs": [],
   "source": [
    " import numpy as np"
   ]
  },
  {
   "cell_type": "code",
   "execution_count": 6,
   "metadata": {},
   "outputs": [],
   "source": [
    "x = [\"oi\", \"tchau\"]"
   ]
  },
  {
   "cell_type": "code",
   "execution_count": 4,
   "metadata": {},
   "outputs": [
    {
     "name": "stdout",
     "output_type": "stream",
     "text": [
      "['oi', 'tchau']\n"
     ]
    }
   ],
   "source": [
    "print(x)"
   ]
  },
  {
   "cell_type": "code",
   "execution_count": 7,
   "metadata": {},
   "outputs": [],
   "source": [
    "x.append(\"d\")"
   ]
  },
  {
   "cell_type": "code",
   "execution_count": 9,
   "metadata": {},
   "outputs": [
    {
     "name": "stdout",
     "output_type": "stream",
     "text": [
      "['oi', 'tchau', 'd']\n"
     ]
    }
   ],
   "source": [
    "print(x)"
   ]
  },
  {
   "cell_type": "code",
   "execution_count": 10,
   "metadata": {},
   "outputs": [
    {
     "data": {
      "text/plain": [
       "'oi'"
      ]
     },
     "execution_count": 10,
     "metadata": {},
     "output_type": "execute_result"
    }
   ],
   "source": [
    "x[0]"
   ]
  },
  {
   "cell_type": "code",
   "execution_count": 11,
   "metadata": {},
   "outputs": [
    {
     "data": {
      "text/plain": [
       "10"
      ]
     },
     "execution_count": 11,
     "metadata": {},
     "output_type": "execute_result"
    }
   ],
   "source": [
    "a=5\n",
    "b=5\n",
    "a+b"
   ]
  },
  {
   "cell_type": "code",
   "execution_count": 2,
   "metadata": {},
   "outputs": [],
   "source": [
    "import numpy as np"
   ]
  },
  {
   "cell_type": "code",
   "execution_count": 13,
   "metadata": {},
   "outputs": [],
   "source": [
    "a = np.array([2,3])\n",
    "b = np.array([5,3])"
   ]
  },
  {
   "cell_type": "code",
   "execution_count": 14,
   "metadata": {
    "scrolled": true
   },
   "outputs": [
    {
     "data": {
      "text/plain": [
       "array([7, 6])"
      ]
     },
     "execution_count": 14,
     "metadata": {},
     "output_type": "execute_result"
    }
   ],
   "source": [
    "a+b"
   ]
  },
  {
   "cell_type": "code",
   "execution_count": 22,
   "metadata": {},
   "outputs": [
    {
     "data": {
      "text/plain": [
       "array([18])"
      ]
     },
     "execution_count": 22,
     "metadata": {},
     "output_type": "execute_result"
    }
   ],
   "source": [
    "a = np.array([2,3])\n",
    "b = np.array([[3],[4]])\n",
    "\n",
    "\n",
    "np.matmul(a,b)"
   ]
  },
  {
   "cell_type": "code",
   "execution_count": 24,
   "metadata": {},
   "outputs": [
    {
     "data": {
      "text/plain": [
       "array([ 6, 12])"
      ]
     },
     "execution_count": 24,
     "metadata": {},
     "output_type": "execute_result"
    }
   ],
   "source": [
    "a = np.array([2,3])\n",
    "b = np.array([3,4])\n",
    "\n",
    "\n",
    "a*b"
   ]
  },
  {
   "cell_type": "code",
   "execution_count": 25,
   "metadata": {},
   "outputs": [
    {
     "data": {
      "text/plain": [
       "array([[ 6,  9],\n",
       "       [ 8, 12]])"
      ]
     },
     "execution_count": 25,
     "metadata": {},
     "output_type": "execute_result"
    }
   ],
   "source": [
    "a = np.array([2,3])\n",
    "b = np.array([[3],[4]])\n",
    "\n",
    "\n",
    "a*b"
   ]
  },
  {
   "cell_type": "code",
   "execution_count": 26,
   "metadata": {},
   "outputs": [
    {
     "data": {
      "text/plain": [
       "4"
      ]
     },
     "execution_count": 26,
     "metadata": {},
     "output_type": "execute_result"
    }
   ],
   "source": [
    "a = np.array([[2,3],[4,5]])\n",
    "\n",
    "a[1,0]"
   ]
  },
  {
   "cell_type": "code",
   "execution_count": 27,
   "metadata": {},
   "outputs": [
    {
     "data": {
      "text/plain": [
       "array([2, 3, 3, 4])"
      ]
     },
     "execution_count": 27,
     "metadata": {},
     "output_type": "execute_result"
    }
   ],
   "source": [
    "a = np.array([2,3])\n",
    "b = np.array([3,4])\n",
    "\n",
    "np.concatenate((a,b))"
   ]
  },
  {
   "cell_type": "code",
   "execution_count": 28,
   "metadata": {},
   "outputs": [
    {
     "data": {
      "text/plain": [
       "array([[2, 3],\n",
       "       [3, 4]])"
      ]
     },
     "execution_count": 28,
     "metadata": {},
     "output_type": "execute_result"
    }
   ],
   "source": [
    "a = np.array([2,3])\n",
    "b = np.array([3,4])\n",
    "\n",
    "np.vstack((a,b))"
   ]
  },
  {
   "cell_type": "code",
   "execution_count": 33,
   "metadata": {},
   "outputs": [
    {
     "name": "stdout",
     "output_type": "stream",
     "text": [
      "[array([1, 2, 3, 4]), array([5, 6, 7, 8])]\n"
     ]
    }
   ],
   "source": [
    "a = [1,2]\n",
    "b = [3,4]\n",
    "c = [5,6]\n",
    "d = [7,8]\n",
    "\n",
    "e = np.concatenate((c,d))\n",
    "f = np.concatenate((a,b))\n",
    "\n",
    "g = [np.concatenate((a,b)),np.concatenate((c,d))]\n",
    "print(g)"
   ]
  },
  {
   "cell_type": "code",
   "execution_count": 34,
   "metadata": {},
   "outputs": [
    {
     "data": {
      "text/plain": [
       "'abracadabra'"
      ]
     },
     "execution_count": 34,
     "metadata": {},
     "output_type": "execute_result"
    }
   ],
   "source": [
    "nome = 'abra'\n",
    "nome2 = 'cadabra'\n",
    "\n",
    "nome+nome2"
   ]
  },
  {
   "cell_type": "code",
   "execution_count": null,
   "metadata": {},
   "outputs": [],
   "source": [
    "len(nome)"
   ]
  },
  {
   "cell_type": "code",
   "execution_count": null,
   "metadata": {},
   "outputs": [],
   "source": [
    "type(nome)"
   ]
  },
  {
   "cell_type": "code",
   "execution_count": null,
   "metadata": {},
   "outputs": [],
   "source": [
    "np.zeros((1,5))"
   ]
  },
  {
   "cell_type": "code",
   "execution_count": null,
   "metadata": {},
   "outputs": [],
   "source": [
    "np.ones((1,5))"
   ]
  },
  {
   "cell_type": "code",
   "execution_count": 78,
   "metadata": {},
   "outputs": [
    {
     "data": {
      "text/plain": [
       "array([1, 3, 5, 7, 9])"
      ]
     },
     "execution_count": 78,
     "metadata": {},
     "output_type": "execute_result"
    }
   ],
   "source": [
    "np.arange(1,10,2)"
   ]
  },
  {
   "cell_type": "code",
   "execution_count": 3,
   "metadata": {},
   "outputs": [
    {
     "data": {
      "text/plain": [
       "array([5, 7, 9])"
      ]
     },
     "execution_count": 3,
     "metadata": {},
     "output_type": "execute_result"
    }
   ],
   "source": [
    "a = np.arange(1,10,2)\n",
    "a[a>4]"
   ]
  },
  {
   "cell_type": "code",
   "execution_count": 80,
   "metadata": {},
   "outputs": [
    {
     "data": {
      "text/plain": [
       "array([5, 7, 9])"
      ]
     },
     "execution_count": 80,
     "metadata": {},
     "output_type": "execute_result"
    }
   ],
   "source": [
    "a = np.arange(1,10,2)\n",
    "a[a>4]"
   ]
  },
  {
   "cell_type": "code",
   "execution_count": null,
   "metadata": {},
   "outputs": [],
   "source": [
    "a = np.arange(5, 10, 0.34)"
   ]
  },
  {
   "cell_type": "code",
   "execution_count": null,
   "metadata": {},
   "outputs": [],
   "source": [
    "a[np.logical_and(a>7,a<8)]"
   ]
  },
  {
   "cell_type": "code",
   "execution_count": null,
   "metadata": {},
   "outputs": [],
   "source": [
    "np.random.rand(1,5)"
   ]
  },
  {
   "cell_type": "code",
   "execution_count": null,
   "metadata": {},
   "outputs": [],
   "source": [
    "from numpy.random import rand\n",
    "rand(1,4)"
   ]
  },
  {
   "cell_type": "code",
   "execution_count": 4,
   "metadata": {},
   "outputs": [
    {
     "data": {
      "text/plain": [
       "<function matplotlib.pyplot.show(*args, **kw)>"
      ]
     },
     "execution_count": 4,
     "metadata": {},
     "output_type": "execute_result"
    },
    {
     "data": {
      "image/png": "[encoded data removed]",
      "text/plain": [
       "<Figure size 432x288 with 1 Axes>"
      ]
     },
     "metadata": {
      "needs_background": "light"
     },
     "output_type": "display_data"
    }
   ],
   "source": [
    "# fitting curve into a sklearn\n",
    "import matplotlib.pyplot as plt\n",
    "import numpy as np\n",
    "from math import pi\n",
    "from sklearn.model_selection import train_test_split\n",
    "\n",
    "xtotal = np.linspace(-15, 15, 100)\n",
    "ytotal = xtotal + 2*np.sin(xtotal)\n",
    "\n",
    "X_train, X_test, y_train, y_test = train_test_split(xtotal, ytotal, test_size = 0.33, random_state = 3)\n",
    "\n",
    "s = np.polyfit(X_train, y_train, 13)\n",
    "p = np.poly1d(s)\n",
    "ycontinued = p(xtotal)\n",
    "\n",
    "plt.plot(X_train,y_train, 'bo', label ='data used for fitting')\n",
    "plt.plot(xtotal,ytotal, 'g--', label='data beyond used for fitting')\n",
    "plt.plot(xtotal,ycontinued, 'r-', label ='best fit')\n",
    "plt.legend (loc='best')\n",
    "\n",
    "plt.ylim((min(ycontinued)-1), max(ycontinued)+1)\n",
    "plt.show"
   ]
  },
  {
   "cell_type": "code",
   "execution_count": 101,
   "metadata": {},
   "outputs": [
    {
     "name": "stdout",
     "output_type": "stream",
     "text": [
      "[-10.          -8.94736842  -7.89473684  -6.84210526  -5.78947368\n",
      "  -4.73684211  -3.68421053  -2.63157895  -1.57894737  -0.52631579\n",
      "   0.52631579   1.57894737   2.63157895   3.68421053   4.73684211\n",
      "   5.78947368   6.84210526   7.89473684   8.94736842  10.        ]\n",
      "[-8.91195778 -9.86632823 -9.89307609 -7.90264689 -4.84167863 -2.73744003\n",
      " -2.65145133 -3.60795737 -3.57888093 -1.5310181   1.5310181   3.57888093\n",
      "  3.60795737  2.65145133  2.73744003  4.84167863  7.90264689  9.89307609\n",
      "  9.86632823  8.91195778]\n",
      "[ 6.08663385e-11  1.35354841e-22 -2.44450905e-08 -3.90515152e-20\n",
      "  4.06077806e-06  4.07490969e-18 -3.50890738e-04 -1.84702889e-16\n",
      "  1.59079554e-02  3.59351022e-15 -3.27791945e-01 -1.91204735e-14\n",
      "  2.98833899e+00 -3.85352467e-15]\n",
      "           13             12             11             10\n",
      "6.087e-11 x  + 1.354e-22 x  - 2.445e-08 x  - 3.905e-20 x \n",
      "              9             8             7             6           5\n",
      " + 4.061e-06 x + 4.075e-18 x - 0.0003509 x - 1.847e-16 x + 0.01591 x\n",
      "              4          3             2\n",
      " + 3.594e-15 x - 0.3278 x - 1.912e-14 x + 2.988 x - 3.854e-15\n",
      "[-15.         -14.6969697  -14.39393939 -14.09090909 -13.78787879\n",
      " -13.48484848 -13.18181818 -12.87878788 -12.57575758 -12.27272727\n",
      " -11.96969697 -11.66666667 -11.36363636 -11.06060606 -10.75757576\n",
      " -10.45454545 -10.15151515  -9.84848485  -9.54545455  -9.24242424\n",
      "  -8.93939394  -8.63636364  -8.33333333  -8.03030303  -7.72727273\n",
      "  -7.42424242  -7.12121212  -6.81818182  -6.51515152  -6.21212121\n",
      "  -5.90909091  -5.60606061  -5.3030303   -5.          -4.6969697\n",
      "  -4.39393939  -4.09090909  -3.78787879  -3.48484848  -3.18181818\n",
      "  -2.87878788  -2.57575758  -2.27272727  -1.96969697  -1.66666667\n",
      "  -1.36363636  -1.06060606  -0.75757576  -0.45454545  -0.15151515\n",
      "   0.15151515   0.45454545   0.75757576   1.06060606   1.36363636\n",
      "   1.66666667   1.96969697   2.27272727   2.57575758   2.87878788\n",
      "   3.18181818   3.48484848   3.78787879   4.09090909   4.39393939\n",
      "   4.6969697    5.           5.3030303    5.60606061   5.90909091\n",
      "   6.21212121   6.51515152   6.81818182   7.12121212   7.42424242\n",
      "   7.72727273   8.03030303   8.33333333   8.63636364   8.93939394\n",
      "   9.24242424   9.54545455   9.84848485  10.15151515  10.45454545\n",
      "  10.75757576  11.06060606  11.36363636  11.66666667  11.96969697\n",
      "  12.27272727  12.57575758  12.87878788  13.18181818  13.48484848\n",
      "  13.78787879  14.09090909  14.39393939  14.6969697   15.        ]\n",
      "[-8.9119858  -9.86600268 -9.89473098 -7.89792791 -4.84952351 -2.73102904\n",
      " -2.6504123  -3.6148733  -3.57587544 -1.52565849  1.52565849  3.57587544\n",
      "  3.6148733   2.6504123   2.73102904  4.84952351  7.89792791  9.89473098\n",
      "  9.86600268  8.9119858 ]\n"
     ]
    },
    {
     "data": {
      "text/plain": [
       "<function matplotlib.pyplot.show(*args, **kw)>"
      ]
     },
     "execution_count": 101,
     "metadata": {},
     "output_type": "execute_result"
    },
    {
     "data": {
      "image/png": "[encoded data removed]",
      "text/plain": [
       "<Figure size 432x288 with 1 Axes>"
      ]
     },
     "metadata": {
      "needs_background": "light"
     },
     "output_type": "display_data"
    }
   ],
   "source": [
    "## utilização do numpy para filtrar curva\n",
    "\n",
    "import matplotlib.pyplot as plt\n",
    "import numpy as np\n",
    "from math import pi\n",
    "\n",
    "x = np.linspace (-10, 10, 20)\n",
    "y = x + 2*np.sin(x)\n",
    "\n",
    "print(x)\n",
    "print(y)\n",
    "\n",
    "s = np.polyfit(x, y, 13)\n",
    "print(s)\n",
    "p = np.poly1d(s)\n",
    "print(p)\n",
    "t = np.linspace(-15, 15, 100)\n",
    "print(t)\n",
    "ycontinued = p(x)\n",
    "print(ycontinued)\n",
    "\n",
    "plt.plot(x,y, 'bo', label ='data used for fitting')\n",
    "plt.plot(s,p, 'g--', label='data beyond used for fitting')\n",
    "plt.plot(x,ycontinued, 'r-', label ='best fit')\n",
    "plt.legend (loc='best')\n",
    "\n",
    "plt.ylim((min(ycontinued)-1), max(ycontinued)+1)\n",
    "plt.show"
   ]
  },
  {
   "cell_type": "code",
   "execution_count": null,
   "metadata": {},
   "outputs": [],
   "source": []
  },
  {
   "cell_type": "code",
   "execution_count": null,
   "metadata": {},
   "outputs": [],
   "source": []
  },
  {
   "cell_type": "code",
   "execution_count": null,
   "metadata": {},
   "outputs": [],
   "source": []
  },
  {
   "cell_type": "code",
   "execution_count": null,
   "metadata": {},
   "outputs": [],
   "source": []
  },
  {
   "cell_type": "code",
   "execution_count": 24,
   "metadata": {},
   "outputs": [],
   "source": []
  },
  {
   "cell_type": "code",
   "execution_count": 72,
   "metadata": {
    "scrolled": true
   },
   "outputs": [],
   "source": []
  },
  {
   "cell_type": "code",
   "execution_count": null,
   "metadata": {},
   "outputs": [],
   "source": []
  },
  {
   "cell_type": "code",
   "execution_count": 58,
   "metadata": {},
   "outputs": [],
   "source": []
  },
  {
   "cell_type": "code",
   "execution_count": 59,
   "metadata": {},
   "outputs": [],
   "source": []
  },
  {
   "cell_type": "code",
   "execution_count": 73,
   "metadata": {},
   "outputs": [],
   "source": []
  },
  {
   "cell_type": "code",
   "execution_count": 66,
   "metadata": {},
   "outputs": [],
   "source": []
  },
  {
   "cell_type": "code",
   "execution_count": 74,
   "metadata": {},
   "outputs": [],
   "source": []
  },
  {
   "cell_type": "code",
   "execution_count": 75,
   "metadata": {},
   "outputs": [],
   "source": []
  },
  {
   "cell_type": "code",
   "execution_count": null,
   "metadata": {},
   "outputs": [],
   "source": []
  },
  {
   "cell_type": "code",
   "execution_count": null,
   "metadata": {},
   "outputs": [],
   "source": []
  }
 ],
 "metadata": {
  "kernelspec": {
   "display_name": "Python 3",
   "language": "python",
   "name": "python3"
  },
  "language_info": {
   "codemirror_mode": {
    "name": "ipython",
    "version": 3
   },
   "file_extension": ".py",
   "mimetype": "text/x-python",
   "name": "python",
   "nbconvert_exporter": "python",
   "pygments_lexer": "ipython3",
   "version": "3.7.6"
  }
 },
 "nbformat": 4,
 "nbformat_minor": 2
}
