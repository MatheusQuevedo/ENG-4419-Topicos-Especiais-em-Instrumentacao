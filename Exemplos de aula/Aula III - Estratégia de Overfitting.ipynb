{
 "cells": [
  {
   "cell_type": "code",
   "execution_count": 20,
   "metadata": {},
   "outputs": [
    {
     "ename": "AttributeError",
     "evalue": "'DecisionTreeClassifier' object has no attribute 'cost_complexity_pruning_path'",
     "output_type": "error",
     "traceback": [
      "\u001b[1;31m---------------------------------------------------------------------------\u001b[0m",
      "\u001b[1;31mAttributeError\u001b[0m                            Traceback (most recent call last)",
      "\u001b[1;32m<ipython-input-20-8f8bca6edd92>\u001b[0m in \u001b[0;36m<module>\u001b[1;34m\u001b[0m\n\u001b[0;32m     29\u001b[0m \u001b[0marv\u001b[0m \u001b[1;33m=\u001b[0m \u001b[0mtree\u001b[0m\u001b[1;33m.\u001b[0m\u001b[0mDecisionTreeClassifier\u001b[0m\u001b[1;33m(\u001b[0m\u001b[0mrandom_state\u001b[0m \u001b[1;33m=\u001b[0m \u001b[1;36m0\u001b[0m\u001b[1;33m)\u001b[0m\u001b[1;33m\u001b[0m\u001b[1;33m\u001b[0m\u001b[0m\n\u001b[0;32m     30\u001b[0m \u001b[1;33m\u001b[0m\u001b[0m\n\u001b[1;32m---> 31\u001b[1;33m \u001b[0mpath\u001b[0m \u001b[1;33m=\u001b[0m \u001b[0marv\u001b[0m\u001b[1;33m.\u001b[0m\u001b[0mcost_complexity_pruning_path\u001b[0m\u001b[1;33m(\u001b[0m\u001b[0mX_train\u001b[0m\u001b[1;33m,\u001b[0m \u001b[0mY_train\u001b[0m\u001b[1;33m)\u001b[0m\u001b[1;33m\u001b[0m\u001b[1;33m\u001b[0m\u001b[0m\n\u001b[0m\u001b[0;32m     32\u001b[0m \u001b[0mccp_alphas\u001b[0m\u001b[1;33m,\u001b[0m \u001b[0mimpurities\u001b[0m \u001b[1;33m=\u001b[0m \u001b[0mpath\u001b[0m\u001b[1;33m.\u001b[0m\u001b[0mccp_alphas\u001b[0m\u001b[1;33m,\u001b[0m \u001b[0mpath\u001b[0m\u001b[1;33m.\u001b[0m\u001b[0mimpurities\u001b[0m\u001b[1;33m\u001b[0m\u001b[1;33m\u001b[0m\u001b[0m\n\u001b[0;32m     33\u001b[0m \u001b[1;33m\u001b[0m\u001b[0m\n",
      "\u001b[1;31mAttributeError\u001b[0m: 'DecisionTreeClassifier' object has no attribute 'cost_complexity_pruning_path'"
     ]
    }
   ],
   "source": [
    "from sklearn import tree\n",
    "from sklearn.model_selection import train_test_split\n",
    "from sklearn.tree import DecisionTreeClassifier\n",
    "import numpy as np\n",
    "import ipdb\n",
    "\n",
    "np.random.seed(0)\n",
    "\n",
    "X = np.random.random([500,2])\n",
    "Y = []\n",
    "\n",
    "## Criação do vetor de saída Y, com base no vetor aleatório X\n",
    "for x_value in X:\n",
    "    y_value = 0\n",
    "    if(x_value[0] > 0.5) and (x_value[1] > 0.5):\n",
    "        y_value = 1\n",
    "        \n",
    "    if np.random.random() > 1:\n",
    "        y_value = not y_value\n",
    "    \n",
    "    Y.append(y_value)\n",
    "    \n",
    "Y = np.array(Y)\n",
    "\n",
    "feature_names = ['x1', 'x2']\n",
    "target_names = ['falso', 'verdadeiro']\n",
    "\n",
    "X_train, X_test, Y_train, Y_test = train_test_split(X, Y, test_size = 0.2, random_state = 0)\n",
    "\n",
    "arv = tree.DecisionTreeClassifier(random_state = 0)\n",
    "## Avaliação dos possiveís alphas da árvore, procurando o elos fracos da árvore, que podem ser excluidos\n",
    "path = arv.cost_complexity_pruning_path(X_train, Y_train)\n",
    "ccp_alphas, impurities = path.ccp_alphas, path.impurities\n",
    "## Treinando a arvore para cada alpha\n",
    "clfs = []\n",
    "for ccp_alpha in ccp_alphas:\n",
    "    arv = tree.DecisionTreeClassifier(random_state = 0, ccp_alpha = ccp_alpha)\n",
    "    arv.fit(X_train, Y_train)\n",
    "    clfs.append(arv)\n",
    "    \n",
    "train_scores = [arv.score(X_train, Y_train) for arv in clfs]\n",
    "test_scores = [arv.score(X_test, Y_test) for arv in clfs]\n",
    "\n",
    "ipdb.set_trace()\n",
    "        "
   ]
  },
  {
   "cell_type": "code",
   "execution_count": 26,
   "metadata": {},
   "outputs": [
    {
     "name": "stdout",
     "output_type": "stream",
     "text": [
      "Teste sozinho foi [0.9181286549707602, 0.9298245614035088, 0.9298245614035088, 0.631578947368421, 0.8947368421052632]\n",
      "Teste ensemble foi 0.9415204678362573\n"
     ]
    }
   ],
   "source": [
    "from sklearn import tree\n",
    "from sklearn import datasets\n",
    "from sklearn.model_selection import train_test_split\n",
    "from sklearn.metrics import accuracy_score\n",
    "from sklearn.ensemble import VotingClassifier\n",
    "\n",
    "dataset = datasets.load_breast_cancer()\n",
    "\n",
    "x = dataset.data\n",
    "y = dataset.target\n",
    "\n",
    "xtrain, xtest, ytrain, ytest = train_test_split(x, y, test_size = 0.3, random_state = 0)\n",
    "\n",
    "arv1 = tree.DecisionTreeClassifier(min_samples_split = 10, random_state = 0)\n",
    "arv2 = tree.DecisionTreeClassifier(max_depth = 5, random_state = 10)\n",
    "arv3 = tree.DecisionTreeClassifier(min_impurity_decrease = 0, random_state = 20)\n",
    "arv4 = tree.DecisionTreeClassifier(min_impurity_decrease = 0.5, random_state = 30)\n",
    "arv5 = tree.DecisionTreeClassifier(min_impurity_decrease = 0.1, random_state = 40)\n",
    "\n",
    "arvs = [('1', arv1), ('2', arv2), ('3', arv3), ('4', arv4), ('5', arv5)]\n",
    "ensemble = VotingClassifier(estimators = arvs, voting ='hard')\n",
    "ensemble.fit(xtrain, ytrain)\n",
    "\n",
    "test_scores_single_arv = [arv.score(xtest, ytest) for arv in ensemble.estimators_] ##what does this last caracter means?\n",
    "test_scores_ensemble = ensemble.score(xtest, ytest)\n",
    "\n",
    "print(\"Teste sozinho foi %s\" %test_scores_single_arv)\n",
    "print(\"Teste ensemble foi %s\" %test_scores_ensemble) ## Desempenho do conjunto, muito próximo do maior ou até maior\n",
    "\n",
    "\n",
    "\n"
   ]
  },
  {
   "cell_type": "code",
   "execution_count": 31,
   "metadata": {},
   "outputs": [
    {
     "name": "stdout",
     "output_type": "stream",
     "text": [
      "treino: 100.0\n",
      "teste: 97.6608187134503\n"
     ]
    }
   ],
   "source": [
    "from sklearn import tree\n",
    "from sklearn import datasets\n",
    "from sklearn.model_selection import train_test_split\n",
    "from sklearn.metrics import accuracy_score\n",
    "from sklearn.ensemble import VotingClassifier\n",
    "\n",
    "dataset = datasets.load_breast_cancer()\n",
    "\n",
    "x = dataset.data\n",
    "y = dataset.target\n",
    "\n",
    "xtrain, xtest, ytrain, ytest = train_test_split(x, y, test_size = 0.3, random_state = 0)\n",
    "\n",
    "from sklearn.ensemble import BaggingClassifier\n",
    "\n",
    "arv = BaggingClassifier(base_estimator=tree.DecisionTreeClassifier(), n_estimators = 100, random_state = 0)\n",
    "arv.fit(xtrain,ytrain)\n",
    "\n",
    "predictedY_test = arv.predict(xtest)\n",
    "predictedY_train = arv.predict(xtrain)\n",
    "\n",
    "acr_train = accuracy_score(ytrain, predictedY_train)\n",
    "acr_test = accuracy_score(ytest, predictedY_test)\n",
    "\n",
    "print (\"treino: %s\" %(acr_train*100))\n",
    "print (\"teste: %s\" %(acr_test*100))"
   ]
  },
  {
   "cell_type": "code",
   "execution_count": 32,
   "metadata": {},
   "outputs": [
    {
     "name": "stdout",
     "output_type": "stream",
     "text": [
      "treino: 100.0\n",
      "teste: 95.90643274853801\n"
     ]
    }
   ],
   "source": [
    "from sklearn import tree\n",
    "from sklearn import datasets\n",
    "from sklearn.model_selection import train_test_split\n",
    "from sklearn.metrics import accuracy_score\n",
    "from sklearn.ensemble import VotingClassifier\n",
    "\n",
    "dataset = datasets.load_breast_cancer()\n",
    "\n",
    "x = dataset.data\n",
    "y = dataset.target\n",
    "\n",
    "xtrain, xtest, ytrain, ytest = train_test_split(x, y, test_size = 0.3, random_state = 0)\n",
    "\n",
    "from sklearn.ensemble import RandomForestClassifier\n",
    "\n",
    "arv = RandomForestClassifier(n_estimators=100, max_features = \"sqrt\", random_state = 0)\n",
    "arv.fit(xtrain,ytrain)\n",
    "\n",
    "predictedY_test = arv.predict(xtest)\n",
    "predictedY_train = arv.predict(xtrain)\n",
    "\n",
    "acr_train = accuracy_score(ytrain, predictedY_train)\n",
    "acr_test = accuracy_score(ytest, predictedY_test)\n",
    "\n",
    "print (\"treino: %s\" %(acr_train*100))\n",
    "print (\"teste: %s\" %(acr_test*100))"
   ]
  },
  {
   "cell_type": "code",
   "execution_count": null,
   "metadata": {},
   "outputs": [],
   "source": []
  }
 ],
 "metadata": {
  "kernelspec": {
   "display_name": "Python 3",
   "language": "python",
   "name": "python3"
  },
  "language_info": {
   "codemirror_mode": {
    "name": "ipython",
    "version": 3
   },
   "file_extension": ".py",
   "mimetype": "text/x-python",
   "name": "python",
   "nbconvert_exporter": "python",
   "pygments_lexer": "ipython3",
   "version": "3.7.6"
  }
 },
 "nbformat": 4,
 "nbformat_minor": 2
}
